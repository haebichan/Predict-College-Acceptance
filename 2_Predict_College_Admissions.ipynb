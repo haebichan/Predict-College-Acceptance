{
 "cells": [
  {
   "cell_type": "markdown",
   "metadata": {},
   "source": [
    "Please view the \"College_Data_Manipulation\" notebook before reviewing this one. This notebook will demonstrate simple steps to predict college admissions using ensemble (Randon Forest Classifier) technique."
   ]
  },
  {
   "cell_type": "code",
   "execution_count": 1,
   "metadata": {},
   "outputs": [
    {
     "name": "stdout",
     "output_type": "stream",
     "text": [
      "Populating the interactive namespace from numpy and matplotlib\n"
     ]
    }
   ],
   "source": [
    "# Import relevant modules and load your dataframe.\n",
    "\n",
    "import pandas as pd\n",
    "import matplotlib.pyplot as plt\n",
    "from sklearn import metrics\n",
    "from sklearn.model_selection import train_test_split, cross_val_score, RandomizedSearchCV\n",
    "from sklearn.preprocessing import binarize\n",
    "from sklearn.ensemble import RandomForestClassifier\n",
    "%pylab inline\n",
    "\n",
    "df = pd.read_csv('/Users/Haebichan/Desktop/Processed Harvard Data.csv')"
   ]
  },
  {
   "cell_type": "code",
   "execution_count": 2,
   "metadata": {},
   "outputs": [
    {
     "data": {
      "text/html": [
       "<div>\n",
       "<style>\n",
       "    .dataframe thead tr:only-child th {\n",
       "        text-align: right;\n",
       "    }\n",
       "\n",
       "    .dataframe thead th {\n",
       "        text-align: left;\n",
       "    }\n",
       "\n",
       "    .dataframe tbody tr th {\n",
       "        vertical-align: top;\n",
       "    }\n",
       "</style>\n",
       "<table border=\"1\" class=\"dataframe\">\n",
       "  <thead>\n",
       "    <tr style=\"text-align: right;\">\n",
       "      <th></th>\n",
       "      <th>Unnamed: 0</th>\n",
       "      <th>gender</th>\n",
       "      <th>type_of_high_school</th>\n",
       "      <th>state</th>\n",
       "      <th>unweighted_gpa</th>\n",
       "      <th>sat_math</th>\n",
       "      <th>sat_reading</th>\n",
       "      <th>sat_writing</th>\n",
       "      <th>act_total</th>\n",
       "      <th>school_ranking</th>\n",
       "      <th>decision</th>\n",
       "      <th>sat_total</th>\n",
       "    </tr>\n",
       "  </thead>\n",
       "  <tbody>\n",
       "    <tr>\n",
       "      <th>0</th>\n",
       "      <td>0</td>\n",
       "      <td>0</td>\n",
       "      <td>0</td>\n",
       "      <td>1</td>\n",
       "      <td>4.00</td>\n",
       "      <td>770.0</td>\n",
       "      <td>800.0</td>\n",
       "      <td>730.0</td>\n",
       "      <td>35.0</td>\n",
       "      <td>0</td>\n",
       "      <td>1</td>\n",
       "      <td>2300.0</td>\n",
       "    </tr>\n",
       "    <tr>\n",
       "      <th>1</th>\n",
       "      <td>1</td>\n",
       "      <td>0</td>\n",
       "      <td>1</td>\n",
       "      <td>1</td>\n",
       "      <td>4.00</td>\n",
       "      <td>750.0</td>\n",
       "      <td>740.0</td>\n",
       "      <td>740.0</td>\n",
       "      <td>33.0</td>\n",
       "      <td>2</td>\n",
       "      <td>0</td>\n",
       "      <td>2230.0</td>\n",
       "    </tr>\n",
       "    <tr>\n",
       "      <th>2</th>\n",
       "      <td>2</td>\n",
       "      <td>0</td>\n",
       "      <td>0</td>\n",
       "      <td>1</td>\n",
       "      <td>4.00</td>\n",
       "      <td>750.0</td>\n",
       "      <td>750.0</td>\n",
       "      <td>800.0</td>\n",
       "      <td>35.0</td>\n",
       "      <td>2</td>\n",
       "      <td>1</td>\n",
       "      <td>2300.0</td>\n",
       "    </tr>\n",
       "    <tr>\n",
       "      <th>3</th>\n",
       "      <td>3</td>\n",
       "      <td>0</td>\n",
       "      <td>0</td>\n",
       "      <td>1</td>\n",
       "      <td>4.00</td>\n",
       "      <td>700.0</td>\n",
       "      <td>710.0</td>\n",
       "      <td>750.0</td>\n",
       "      <td>34.0</td>\n",
       "      <td>1</td>\n",
       "      <td>0</td>\n",
       "      <td>2160.0</td>\n",
       "    </tr>\n",
       "    <tr>\n",
       "      <th>4</th>\n",
       "      <td>4</td>\n",
       "      <td>0</td>\n",
       "      <td>0</td>\n",
       "      <td>1</td>\n",
       "      <td>3.74</td>\n",
       "      <td>620.0</td>\n",
       "      <td>640.0</td>\n",
       "      <td>670.0</td>\n",
       "      <td>29.0</td>\n",
       "      <td>2</td>\n",
       "      <td>0</td>\n",
       "      <td>1930.0</td>\n",
       "    </tr>\n",
       "  </tbody>\n",
       "</table>\n",
       "</div>"
      ],
      "text/plain": [
       "   Unnamed: 0  gender  type_of_high_school  state  unweighted_gpa  sat_math  \\\n",
       "0           0       0                    0      1            4.00     770.0   \n",
       "1           1       0                    1      1            4.00     750.0   \n",
       "2           2       0                    0      1            4.00     750.0   \n",
       "3           3       0                    0      1            4.00     700.0   \n",
       "4           4       0                    0      1            3.74     620.0   \n",
       "\n",
       "   sat_reading  sat_writing  act_total  school_ranking  decision  sat_total  \n",
       "0        800.0        730.0       35.0               0         1     2300.0  \n",
       "1        740.0        740.0       33.0               2         0     2230.0  \n",
       "2        750.0        800.0       35.0               2         1     2300.0  \n",
       "3        710.0        750.0       34.0               1         0     2160.0  \n",
       "4        640.0        670.0       29.0               2         0     1930.0  "
      ]
     },
     "execution_count": 2,
     "metadata": {},
     "output_type": "execute_result"
    }
   ],
   "source": [
    "df.head()"
   ]
  },
  {
   "cell_type": "code",
   "execution_count": 3,
   "metadata": {},
   "outputs": [
    {
     "data": {
      "text/html": [
       "<div>\n",
       "<style>\n",
       "    .dataframe thead tr:only-child th {\n",
       "        text-align: right;\n",
       "    }\n",
       "\n",
       "    .dataframe thead th {\n",
       "        text-align: left;\n",
       "    }\n",
       "\n",
       "    .dataframe tbody tr th {\n",
       "        vertical-align: top;\n",
       "    }\n",
       "</style>\n",
       "<table border=\"1\" class=\"dataframe\">\n",
       "  <thead>\n",
       "    <tr style=\"text-align: right;\">\n",
       "      <th></th>\n",
       "      <th>sat_total</th>\n",
       "      <th>gender</th>\n",
       "      <th>type_of_high_school</th>\n",
       "      <th>state</th>\n",
       "      <th>unweighted_gpa</th>\n",
       "      <th>act_total</th>\n",
       "      <th>school_ranking</th>\n",
       "      <th>decision</th>\n",
       "    </tr>\n",
       "  </thead>\n",
       "  <tbody>\n",
       "    <tr>\n",
       "      <th>0</th>\n",
       "      <td>2300.0</td>\n",
       "      <td>0</td>\n",
       "      <td>0</td>\n",
       "      <td>1</td>\n",
       "      <td>4.00</td>\n",
       "      <td>35.0</td>\n",
       "      <td>0</td>\n",
       "      <td>1</td>\n",
       "    </tr>\n",
       "    <tr>\n",
       "      <th>1</th>\n",
       "      <td>2230.0</td>\n",
       "      <td>0</td>\n",
       "      <td>1</td>\n",
       "      <td>1</td>\n",
       "      <td>4.00</td>\n",
       "      <td>33.0</td>\n",
       "      <td>2</td>\n",
       "      <td>0</td>\n",
       "    </tr>\n",
       "    <tr>\n",
       "      <th>2</th>\n",
       "      <td>2300.0</td>\n",
       "      <td>0</td>\n",
       "      <td>0</td>\n",
       "      <td>1</td>\n",
       "      <td>4.00</td>\n",
       "      <td>35.0</td>\n",
       "      <td>2</td>\n",
       "      <td>1</td>\n",
       "    </tr>\n",
       "    <tr>\n",
       "      <th>3</th>\n",
       "      <td>2160.0</td>\n",
       "      <td>0</td>\n",
       "      <td>0</td>\n",
       "      <td>1</td>\n",
       "      <td>4.00</td>\n",
       "      <td>34.0</td>\n",
       "      <td>1</td>\n",
       "      <td>0</td>\n",
       "    </tr>\n",
       "    <tr>\n",
       "      <th>4</th>\n",
       "      <td>1930.0</td>\n",
       "      <td>0</td>\n",
       "      <td>0</td>\n",
       "      <td>1</td>\n",
       "      <td>3.74</td>\n",
       "      <td>29.0</td>\n",
       "      <td>2</td>\n",
       "      <td>0</td>\n",
       "    </tr>\n",
       "  </tbody>\n",
       "</table>\n",
       "</div>"
      ],
      "text/plain": [
       "   sat_total  gender  type_of_high_school  state  unweighted_gpa  act_total  \\\n",
       "0     2300.0       0                    0      1            4.00       35.0   \n",
       "1     2230.0       0                    1      1            4.00       33.0   \n",
       "2     2300.0       0                    0      1            4.00       35.0   \n",
       "3     2160.0       0                    0      1            4.00       34.0   \n",
       "4     1930.0       0                    0      1            3.74       29.0   \n",
       "\n",
       "   school_ranking  decision  \n",
       "0               0         1  \n",
       "1               2         0  \n",
       "2               2         1  \n",
       "3               1         0  \n",
       "4               2         0  "
      ]
     },
     "execution_count": 3,
     "metadata": {},
     "output_type": "execute_result"
    }
   ],
   "source": [
    "# Get rid of the first column. Also, get rid of sat_math / sat_reading / sat_writing columns. One column representing total SAT score is enough for prediction and doesn't take away from the precision of the precision. Next, reposition sat_total column so that the decision column (our target) is the last one in the dataframe.\n",
    "\n",
    "df = df.iloc[:,1:]\n",
    "\n",
    "cols = df.columns.tolist()\n",
    "cols = cols[-1:] + cols[:-1]\n",
    "df = df[cols]\n",
    "\n",
    "df.drop('sat_math sat_reading sat_writing'.split(), 1, inplace=True)\n",
    "\n",
    "df.head()"
   ]
  },
  {
   "cell_type": "code",
   "execution_count": 4,
   "metadata": {
    "collapsed": true
   },
   "outputs": [],
   "source": [
    "# Split and train your data.\n",
    "X = df.iloc[:,:-1]\n",
    "Y = df['decision']\n",
    "\n",
    "x_train, x_test, y_train, y_test = train_test_split(X,Y, test_size = 0.3)"
   ]
  },
  {
   "cell_type": "code",
   "execution_count": 5,
   "metadata": {},
   "outputs": [
    {
     "name": "stdout",
     "output_type": "stream",
     "text": [
      "Best Params: {'n_estimators': 50, 'min_samples_split': 20, 'min_samples_leaf': 13, 'max_depth': 19}\n",
      "Best Score: 0.740608228980322\n",
      "Best Estimator: RandomForestClassifier(bootstrap=True, class_weight=None, criterion='gini',\n",
      "            max_depth=19, max_features='auto', max_leaf_nodes=None,\n",
      "            min_impurity_decrease=0.0, min_impurity_split=None,\n",
      "            min_samples_leaf=13, min_samples_split=20,\n",
      "            min_weight_fraction_leaf=0.0, n_estimators=50, n_jobs=1,\n",
      "            oob_score=False, random_state=None, verbose=0,\n",
      "            warm_start=False)\n"
     ]
    }
   ],
   "source": [
    "# Optimize relevant parameters of Random Forest using RandomSearchCV\n",
    "\n",
    "model = RandomForestClassifier()\n",
    "n_estimators_range = range(1,70)\n",
    "min_samples_split_range = range(2,50)\n",
    "min_samples_leaf_range = range(2,50)\n",
    "max_depth_range = range(1,20)\n",
    "\n",
    "param_dist = dict({\n",
    "    'n_estimators': n_estimators_range,\n",
    "    'min_samples_split': min_samples_split_range,\n",
    "    'min_samples_leaf': min_samples_leaf_range,\n",
    "    'max_depth': max_depth_range,\n",
    "})\n",
    "\n",
    "\n",
    "search = RandomizedSearchCV(model, param_dist, n_iter = 50, cv = 10, scoring = 'accuracy')\n",
    "search.fit(X,Y)\n",
    "\n",
    "print('Best Params: {}'.format(search.best_params_))\n",
    "print('Best Score: {}'.format(search.best_score_))\n",
    "print('Best Estimator: {}'.format(search.best_estimator_))"
   ]
  },
  {
   "cell_type": "code",
   "execution_count": 6,
   "metadata": {},
   "outputs": [
    {
     "data": {
      "text/plain": [
       "RandomForestClassifier(bootstrap=True, class_weight=None, criterion='gini',\n",
       "            max_depth=19, max_features='auto', max_leaf_nodes=None,\n",
       "            min_impurity_decrease=0.0, min_impurity_split=None,\n",
       "            min_samples_leaf=13, min_samples_split=20,\n",
       "            min_weight_fraction_leaf=0.0, n_estimators=50, n_jobs=1,\n",
       "            oob_score=False, random_state=None, verbose=0,\n",
       "            warm_start=False)"
      ]
     },
     "execution_count": 6,
     "metadata": {},
     "output_type": "execute_result"
    }
   ],
   "source": [
    "# Instantiate the estimator using found paramters \n",
    "\n",
    "model = RandomForestClassifier(n_estimators = 50, min_samples_split = 20, min_samples_leaf = 13, max_depth = 19)\n",
    "model.fit(x_train,y_train)"
   ]
  },
  {
   "cell_type": "code",
   "execution_count": 7,
   "metadata": {},
   "outputs": [
    {
     "data": {
      "text/plain": [
       "(array([ 7.,  7., 11., 16., 12., 15., 17., 15., 16., 11., 12.,  8.,  9.,\n",
       "         2.,  2.,  0.,  1.,  2.,  2.,  3.]),\n",
       " array([0.0619189 , 0.09364805, 0.1253772 , 0.15710635, 0.1888355 ,\n",
       "        0.22056465, 0.2522938 , 0.28402295, 0.3157521 , 0.34748125,\n",
       "        0.3792104 , 0.41093955, 0.4426687 , 0.47439785, 0.506127  ,\n",
       "        0.53785615, 0.5695853 , 0.60131445, 0.6330436 , 0.66477275,\n",
       "        0.6965019 ]),\n",
       " <a list of 20 Patch objects>)"
      ]
     },
     "execution_count": 7,
     "metadata": {},
     "output_type": "execute_result"
    },
    {
     "data": {
      "image/png": "[encoded data removed]",
      "text/plain": [
       "<matplotlib.figure.Figure at 0x10b4b1940>"
      ]
     },
     "metadata": {},
     "output_type": "display_data"
    }
   ],
   "source": [
    "# Check the distribution of our target values (Admission Decisions)\n",
    "\n",
    "y_pred_prob = model.predict_proba(x_test)[:,1]\n",
    "\n",
    "hist(y_pred_prob, bins = 20)"
   ]
  },
  {
   "cell_type": "markdown",
   "metadata": {},
   "source": [
    "The right-skewed distribution in the graph shows that the prediction threshold of around 0.22~0.25 might be more optimal than the 0.5 default value. See that our objective of correctly predicting college acceptance is one of recall, since we need to minimize the False Negative Rate. It's worse to predict rejection when it's actually an acceptance than to predict acceptance when it's a rejection. The former leads to applicants possibly not applying to specificied universities when the should have while the latter merely leads to a rejection, a frowny face, and ~$100 bucks application fee. Let us visualize the optimal prediction threshold using an ROC-curve."
   ]
  },
  {
   "cell_type": "code",
   "execution_count": 8,
   "metadata": {},
   "outputs": [
    {
     "data": {
      "text/plain": [
       "Text(0,0.5,'True Positive Rate')"
      ]
     },
     "execution_count": 8,
     "metadata": {},
     "output_type": "execute_result"
    },
    {
     "data": {
      "image/png": "[encoded data removed]",
      "text/plain": [
       "<matplotlib.figure.Figure at 0x1123b8860>"
      ]
     },
     "metadata": {},
     "output_type": "display_data"
    }
   ],
   "source": [
    "fpr, tpr, all_thresholds = metrics.roc_curve(y_test, y_pred_prob)\n",
    "plot(fpr,tpr)\n",
    "title('ROC Curve for College Admissions Prediction')\n",
    "grid(True)\n",
    "xlabel('False Positive Rate')\n",
    "ylabel('True Positive Rate')"
   ]
  },
  {
   "cell_type": "code",
   "execution_count": 9,
   "metadata": {},
   "outputs": [
    {
     "name": "stdout",
     "output_type": "stream",
     "text": [
      "Sensitivity: 0.9591836734693877\n",
      "Specificity: 0.4201680672268907\n",
      "None 0.22\n",
      "Sensitivity: 0.9183673469387755\n",
      "Specificity: 0.46218487394957986\n",
      "None 0.23\n",
      "Sensitivity: 0.8979591836734694\n",
      "Specificity: 0.4957983193277311\n",
      "None 0.24\n",
      "Sensitivity: 0.8367346938775511\n",
      "Specificity: 0.5042016806722689\n",
      "None 0.25\n"
     ]
    }
   ],
   "source": [
    "def threshold_evaluation(selected_threshold):\n",
    "    print('Sensitivity: {}'.format(tpr[all_thresholds > selected_threshold][-1]))\n",
    "    print('Specificity: {}'.format(1 - fpr[all_thresholds > selected_threshold][-1]))\n",
    "    \n",
    "def decimal_range(start, stop, increase_by):\n",
    "    while start < stop: \n",
    "        yield start\n",
    "        start += increase_by\n",
    "        \n",
    "for i in decimal_range(0.22, 0.26, 0.01):\n",
    "    i = round(i, 2)\n",
    "    print(threshold_evaluation(i), i)"
   ]
  },
  {
   "cell_type": "code",
   "execution_count": 10,
   "metadata": {
    "collapsed": true
   },
   "outputs": [],
   "source": [
    "# Seeing that 0.22 provided the best rate, change the prediction threshold using binarize to increase the sensitivity rate with this given number. Your optimal prediction threshold will vary. \n",
    "\n",
    "y_pred_binarized = binarize([y_pred_prob], 0.22)[0]"
   ]
  },
  {
   "cell_type": "code",
   "execution_count": 11,
   "metadata": {},
   "outputs": [
    {
     "name": "stdout",
     "output_type": "stream",
     "text": [
      "Original Confusion Matrix: [[118   1]\n",
      " [ 39  10]]\n",
      "New Confusion Matrix: [[50 69]\n",
      " [ 2 47]]\n"
     ]
    }
   ],
   "source": [
    "# Gauge the results by comparing the two confusion matrices (with and without shifted prediction threshold).\n",
    "\n",
    "y_pred = model.predict(x_test)\n",
    "\n",
    "cf_matrix = metrics.confusion_matrix(y_test, y_pred)\n",
    "new_cf_matrix = metrics.confusion_matrix(y_test, y_pred_binarized)\n",
    "\n",
    "print(\"Original Confusion Matrix: {}\".format(cf_matrix))\n",
    "print(\"New Confusion Matrix: {}\".format(new_cf_matrix))"
   ]
  },
  {
   "cell_type": "markdown",
   "metadata": {},
   "source": [
    "The first confusion matrix shows a sensitivity rate of 20% (10 / (10+39)). The second one with the changed prediction threshold displays a sensitivity rate of 95% (47 / (47+2))."
   ]
  },
  {
   "cell_type": "code",
   "execution_count": 12,
   "metadata": {},
   "outputs": [
    {
     "name": "stdout",
     "output_type": "stream",
     "text": [
      "AUC:  0.776367689933116\n",
      "Cross-Validated AUC 0.6594692684766214\n",
      "Cross-Validation Score (10-K folds) 0.7389097744360902\n",
      "Accuracy Score:  0.7619047619047619\n"
     ]
    }
   ],
   "source": [
    "# There are many metrics to measure the performance of the classifier. \n",
    "\n",
    "\n",
    "# Area Under the Curve or AUC (performance of a classifier as an alternative to classification accuracy)\n",
    "print(\"AUC: \", metrics.roc_auc_score(y_test, y_pred_prob))\n",
    "\n",
    "# Cross-Validated AUC (AUC with 10 k-folds cross validation)\n",
    "c_val_auc = cross_val_score(model, X,Y, cv=10, scoring= 'roc_auc').mean()\n",
    "print(\"Cross-Validated AUC\", c_val_auc)\n",
    "\n",
    "\n",
    "# Cross-Validated Score (10 k-folds cross validation)\n",
    "c_val_score = cross_val_score(model, X,Y, scoring = 'accuracy',cv = 10)\n",
    "print(\"Cross-Validation Score (10-K folds) %s\"% c_val_score.mean())\n",
    "\n",
    "# Test Accuracy Score\n",
    "print(\"Accuracy Score: \", model.score(x_test,y_test))\n"
   ]
  },
  {
   "cell_type": "code",
   "execution_count": 13,
   "metadata": {},
   "outputs": [
    {
     "name": "stdout",
     "output_type": "stream",
     "text": [
      "\n",
      "Please provide the gender (Male or Female):\n",
      "Gender: Female\n",
      "\n",
      "Please provide the type of high school (Private or Public): \n",
      "School Type: Private\n",
      "\n",
      "Please type either \"In-State\" or \"Out-of-State\" for type of application: \n",
      "Application Type: In-State\n",
      "\n",
      "Please provide the Unweighted GPA Score: \n",
      "Total of 4.0: 3.5\n",
      "\n",
      "Please provide the total SAT Score (2400 Max): \n",
      "SAT Score: 2100\n",
      "\n",
      "Please provide the total ACT Score (36 Max): \n",
      "ACT Score: 35\n",
      "\n",
      "Please provide the school ranking: \n",
      "Top 1%, Top 5%, Top 10%, Top 25%, Top 50%: Top 5%\n",
      "Our machine has predicted 'Rejection' based on the profile given.\n"
     ]
    }
   ],
   "source": [
    "# Get your prediction for college admissions, using a function that can be created however you like.\n",
    "\n",
    "def get_inputs(): \n",
    "    print(\"\\nPlease provide the gender (Male or Female):\")\n",
    "    gender = input('Gender: ')\n",
    "    if gender == 'Male':\n",
    "        gender = 1\n",
    "    elif gender == 'Female':\n",
    "        gender = 0\n",
    "\n",
    "    print('\\nPlease provide the type of high school (Private or Public): ')\n",
    "    school_type = input('School Type: ')\n",
    "    if school_type == 'Private':\n",
    "        school_type = 1\n",
    "    if school_type == 'Public':\n",
    "        school_type = 0\n",
    "\n",
    "    print('\\nPlease type either \"In-State\" or \"Out-of-State\" for type of application: ')\n",
    "    in_out_state = input('Application Type: ')\n",
    "    if in_out_state == 'In-State':\n",
    "        in_out_state = 0\n",
    "    elif in_out_state == 'Out-of-State':\n",
    "        in_out_state = 1\n",
    "\n",
    "    print('\\nPlease provide the Unweighted GPA Score: ')\n",
    "    GPA = float(input('Total of 4.0: '))\n",
    "\n",
    "    print('\\nPlease provide the total SAT Score (2400 Max): ')\n",
    "    SAT = int(input('SAT Score: '))\n",
    "\n",
    "    print('\\nPlease provide the total ACT Score (36 Max): ')\n",
    "    ACT = int(input('ACT Score: '))\n",
    "\n",
    "    print('\\nPlease provide the school ranking: ')\n",
    "    ranking = input('Top 1%, Top 5%, Top 10%, Top 25%, Top 50%: ')\n",
    "    if ranking == 'Top 1%':\n",
    "        ranking = 0\n",
    "    if ranking == 'Top 5%':\n",
    "        ranking = 1\n",
    "    if ranking == 'Top 10%':\n",
    "        ranking = 2\n",
    "    if ranking == 'Top 25%':\n",
    "        ranking = 3\n",
    "    if ranking == 'Top 50%':\n",
    "        ranking = 4\n",
    "    \n",
    "    return gender, school_type, in_out_state, GPA, SAT, ACT, ranking\n",
    "\n",
    "prediction = model.predict([get_inputs()])\n",
    "\n",
    "\n",
    "if prediction[0] == 1:\n",
    "    print(\"Our machine has predicted 'Admission' based on the profile given.\")\n",
    "elif prediction[0] == 0:\n",
    "    print(\"Our machine has predicted 'Rejection' based on the profile given.\")\n",
    "else:\n",
    "    print(\"An error has occurred. Please try again.\")\n"
   ]
  },
  {
   "cell_type": "code",
   "execution_count": null,
   "metadata": {},
   "outputs": [],
   "source": []
  },
  {
   "cell_type": "code",
   "execution_count": null,
   "metadata": {
    "collapsed": true
   },
   "outputs": [],
   "source": []
  }
 ],
 "metadata": {
  "kernelspec": {
   "display_name": "Python 3",
   "language": "python",
   "name": "python3"
  },
  "language_info": {
   "codemirror_mode": {
    "name": "ipython",
    "version": 3
   },
   "file_extension": ".py",
   "mimetype": "text/x-python",
   "name": "python",
   "nbconvert_exporter": "python",
   "pygments_lexer": "ipython3",
   "version": "3.6.3"
  }
 },
 "nbformat": 4,
 "nbformat_minor": 2
}
